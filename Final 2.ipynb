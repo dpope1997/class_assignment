{
 "cells": [
  {
   "cell_type": "markdown",
   "id": "healthy-injection",
   "metadata": {},
   "source": [
    "### How many people are fully vaccinated in Summit county versus it's neighbor, Portage county? Also, how many people are not yet fully vaccinated in each county?"
   ]
  },
  {
   "cell_type": "code",
   "execution_count": 72,
   "id": "durable-yukon",
   "metadata": {},
   "outputs": [],
   "source": [
    "import json\n",
    "import pandas as pd\n",
    "import matplotlib.pyplot as plt\n",
    "import seaborn as sns\n",
    "import numpy as np\n",
    "import csv"
   ]
  },
  {
   "cell_type": "code",
   "execution_count": 73,
   "id": "phantom-crowd",
   "metadata": {},
   "outputs": [
    {
     "data": {
      "text/plain": [
       "Index(['county', 'date', 'vaccines_started', 'vaccines_completed'], dtype='object')"
      ]
     },
     "execution_count": 73,
     "metadata": {},
     "output_type": "execute_result"
    }
   ],
   "source": [
    "oly_uniq = pd.read_csv('vaccine_data.csv')\n",
    "oly_uniq.keys()"
   ]
  },
  {
   "cell_type": "markdown",
   "id": "starting-tamil",
   "metadata": {},
   "source": [
    "#### Here we check to see what the first 20 counties in the data are. "
   ]
  },
  {
   "cell_type": "code",
   "execution_count": 19,
   "id": "looking-hartford",
   "metadata": {},
   "outputs": [
    {
     "data": {
      "text/plain": [
       "0     Adams\n",
       "1     Adams\n",
       "2     Adams\n",
       "3     Adams\n",
       "4     Adams\n",
       "5     Adams\n",
       "6     Adams\n",
       "7     Adams\n",
       "8     Adams\n",
       "9     Adams\n",
       "10    Adams\n",
       "11    Adams\n",
       "12    Adams\n",
       "13    Adams\n",
       "14    Adams\n",
       "15    Adams\n",
       "16    Adams\n",
       "17    Adams\n",
       "18    Adams\n",
       "19    Adams\n",
       "Name: county, dtype: object"
      ]
     },
     "execution_count": 19,
     "metadata": {},
     "output_type": "execute_result"
    }
   ],
   "source": [
    "oly_uniq['county'].head(20)"
   ]
  },
  {
   "cell_type": "markdown",
   "id": "joint-concentration",
   "metadata": {},
   "source": [
    "#### Above we see that Adams is the county in the first 20 rows of the data, but that's is not the county we want to look at. Instead, we want to look at summit. Below we pull the data for summit county."
   ]
  },
  {
   "cell_type": "code",
   "execution_count": 23,
   "id": "dangerous-transcription",
   "metadata": {},
   "outputs": [
    {
     "data": {
      "text/html": [
       "<div>\n",
       "<style scoped>\n",
       "    .dataframe tbody tr th:only-of-type {\n",
       "        vertical-align: middle;\n",
       "    }\n",
       "\n",
       "    .dataframe tbody tr th {\n",
       "        vertical-align: top;\n",
       "    }\n",
       "\n",
       "    .dataframe thead th {\n",
       "        text-align: right;\n",
       "    }\n",
       "</style>\n",
       "<table border=\"1\" class=\"dataframe\">\n",
       "  <thead>\n",
       "    <tr style=\"text-align: right;\">\n",
       "      <th></th>\n",
       "      <th>county</th>\n",
       "      <th>date</th>\n",
       "      <th>vaccines_started</th>\n",
       "      <th>vaccines_completed</th>\n",
       "    </tr>\n",
       "  </thead>\n",
       "  <tbody>\n",
       "    <tr>\n",
       "      <th>10780</th>\n",
       "      <td>Summit</td>\n",
       "      <td>12/14/2020</td>\n",
       "      <td>2</td>\n",
       "      <td>0</td>\n",
       "    </tr>\n",
       "    <tr>\n",
       "      <th>10781</th>\n",
       "      <td>Summit</td>\n",
       "      <td>12/15/2020</td>\n",
       "      <td>2</td>\n",
       "      <td>0</td>\n",
       "    </tr>\n",
       "    <tr>\n",
       "      <th>10782</th>\n",
       "      <td>Summit</td>\n",
       "      <td>12/16/2020</td>\n",
       "      <td>41</td>\n",
       "      <td>0</td>\n",
       "    </tr>\n",
       "    <tr>\n",
       "      <th>10783</th>\n",
       "      <td>Summit</td>\n",
       "      <td>12/17/2020</td>\n",
       "      <td>25</td>\n",
       "      <td>0</td>\n",
       "    </tr>\n",
       "    <tr>\n",
       "      <th>10784</th>\n",
       "      <td>Summit</td>\n",
       "      <td>12/18/2020</td>\n",
       "      <td>68</td>\n",
       "      <td>0</td>\n",
       "    </tr>\n",
       "    <tr>\n",
       "      <th>...</th>\n",
       "      <td>...</td>\n",
       "      <td>...</td>\n",
       "      <td>...</td>\n",
       "      <td>...</td>\n",
       "    </tr>\n",
       "    <tr>\n",
       "      <th>10915</th>\n",
       "      <td>Summit</td>\n",
       "      <td>4/28/2021</td>\n",
       "      <td>1197</td>\n",
       "      <td>2788</td>\n",
       "    </tr>\n",
       "    <tr>\n",
       "      <th>10916</th>\n",
       "      <td>Summit</td>\n",
       "      <td>4/29/2021</td>\n",
       "      <td>940</td>\n",
       "      <td>3039</td>\n",
       "    </tr>\n",
       "    <tr>\n",
       "      <th>10917</th>\n",
       "      <td>Summit</td>\n",
       "      <td>4/30/2021</td>\n",
       "      <td>708</td>\n",
       "      <td>1806</td>\n",
       "    </tr>\n",
       "    <tr>\n",
       "      <th>10918</th>\n",
       "      <td>Summit</td>\n",
       "      <td>5/1/2021</td>\n",
       "      <td>804</td>\n",
       "      <td>1228</td>\n",
       "    </tr>\n",
       "    <tr>\n",
       "      <th>10919</th>\n",
       "      <td>Summit</td>\n",
       "      <td>5/2/2021</td>\n",
       "      <td>443</td>\n",
       "      <td>1210</td>\n",
       "    </tr>\n",
       "  </tbody>\n",
       "</table>\n",
       "<p>140 rows × 4 columns</p>\n",
       "</div>"
      ],
      "text/plain": [
       "       county        date  vaccines_started  vaccines_completed\n",
       "10780  Summit  12/14/2020                 2                   0\n",
       "10781  Summit  12/15/2020                 2                   0\n",
       "10782  Summit  12/16/2020                41                   0\n",
       "10783  Summit  12/17/2020                25                   0\n",
       "10784  Summit  12/18/2020                68                   0\n",
       "...       ...         ...               ...                 ...\n",
       "10915  Summit   4/28/2021              1197                2788\n",
       "10916  Summit   4/29/2021               940                3039\n",
       "10917  Summit   4/30/2021               708                1806\n",
       "10918  Summit    5/1/2021               804                1228\n",
       "10919  Summit    5/2/2021               443                1210\n",
       "\n",
       "[140 rows x 4 columns]"
      ]
     },
     "execution_count": 23,
     "metadata": {},
     "output_type": "execute_result"
    }
   ],
   "source": [
    "summit_only = oly_uniq.loc[oly_uniq['county'] == 'Summit']\n",
    "summit_only"
   ]
  },
  {
   "cell_type": "markdown",
   "id": "exact-affairs",
   "metadata": {},
   "source": [
    "### We take the data above and put it into a graph to easily visualize it. First we will show the amount of vaccines that have been started and not yet completed for Summit county."
   ]
  },
  {
   "cell_type": "code",
   "execution_count": 54,
   "id": "metric-trader",
   "metadata": {},
   "outputs": [
    {
     "data": {
      "image/png": "[encoded data removed]",
      "text/plain": [
       "<Figure size 800x800 with 1 Axes>"
      ]
     },
     "metadata": {},
     "output_type": "display_data"
    }
   ],
   "source": [
    "labels = summit_only['date'].keys()\n",
    "vals = summit_only['vaccines_started']\n",
    "width = .75\n",
    "\n",
    "fig, ax = plt.subplots(figsize=(10,10), dpi = 80, facecolor = 'w', edgecolor = 'k')\n",
    "ax.bar(labels,vals)\n",
    "ax.set_ylabel('Number of vaccines')\n",
    "ax.set_xlabel('Days (each like is a day)')\n",
    "plt.xticks(rotation=90, fontsize = 'small')\n",
    "plt.show()"
   ]
  },
  {
   "cell_type": "markdown",
   "id": "specific-endorsement",
   "metadata": {},
   "source": [
    "### Second we will show the amount of vaccines that have been completed."
   ]
  },
  {
   "cell_type": "code",
   "execution_count": 55,
   "id": "regulated-desert",
   "metadata": {},
   "outputs": [
    {
     "data": {
      "image/png": "[encoded data removed]",
      "text/plain": [
       "<Figure size 800x800 with 1 Axes>"
      ]
     },
     "metadata": {},
     "output_type": "display_data"
    }
   ],
   "source": [
    "labels = summit_only['date'].keys()\n",
    "vals = summit_only['vaccines_completed']\n",
    "width = .75\n",
    "\n",
    "fig, ax = plt.subplots(figsize=(10,10), dpi = 80, facecolor = 'w', edgecolor = 'k')\n",
    "ax.bar(labels,vals)\n",
    "ax.set_ylabel('Number of vaccines')\n",
    "ax.set_xlabel('Days (each like is a day)')\n",
    "plt.xticks(rotation=90, fontsize = 'small')\n",
    "plt.show()"
   ]
  },
  {
   "cell_type": "markdown",
   "id": "amended-market",
   "metadata": {},
   "source": [
    "### Now we will input the data for the Portage county to see what that look like."
   ]
  },
  {
   "cell_type": "code",
   "execution_count": 56,
   "id": "proper-triumph",
   "metadata": {},
   "outputs": [
    {
     "data": {
      "text/html": [
       "<div>\n",
       "<style scoped>\n",
       "    .dataframe tbody tr th:only-of-type {\n",
       "        vertical-align: middle;\n",
       "    }\n",
       "\n",
       "    .dataframe tbody tr th {\n",
       "        vertical-align: top;\n",
       "    }\n",
       "\n",
       "    .dataframe thead th {\n",
       "        text-align: right;\n",
       "    }\n",
       "</style>\n",
       "<table border=\"1\" class=\"dataframe\">\n",
       "  <thead>\n",
       "    <tr style=\"text-align: right;\">\n",
       "      <th></th>\n",
       "      <th>county</th>\n",
       "      <th>date</th>\n",
       "      <th>vaccines_started</th>\n",
       "      <th>vaccines_completed</th>\n",
       "    </tr>\n",
       "  </thead>\n",
       "  <tbody>\n",
       "    <tr>\n",
       "      <th>9380</th>\n",
       "      <td>Portage</td>\n",
       "      <td>12/14/2020</td>\n",
       "      <td>0</td>\n",
       "      <td>0</td>\n",
       "    </tr>\n",
       "    <tr>\n",
       "      <th>9381</th>\n",
       "      <td>Portage</td>\n",
       "      <td>12/15/2020</td>\n",
       "      <td>1</td>\n",
       "      <td>0</td>\n",
       "    </tr>\n",
       "    <tr>\n",
       "      <th>9382</th>\n",
       "      <td>Portage</td>\n",
       "      <td>12/16/2020</td>\n",
       "      <td>5</td>\n",
       "      <td>0</td>\n",
       "    </tr>\n",
       "    <tr>\n",
       "      <th>9383</th>\n",
       "      <td>Portage</td>\n",
       "      <td>12/17/2020</td>\n",
       "      <td>9</td>\n",
       "      <td>0</td>\n",
       "    </tr>\n",
       "    <tr>\n",
       "      <th>9384</th>\n",
       "      <td>Portage</td>\n",
       "      <td>12/18/2020</td>\n",
       "      <td>21</td>\n",
       "      <td>0</td>\n",
       "    </tr>\n",
       "    <tr>\n",
       "      <th>...</th>\n",
       "      <td>...</td>\n",
       "      <td>...</td>\n",
       "      <td>...</td>\n",
       "      <td>...</td>\n",
       "    </tr>\n",
       "    <tr>\n",
       "      <th>9515</th>\n",
       "      <td>Portage</td>\n",
       "      <td>4/28/2021</td>\n",
       "      <td>270</td>\n",
       "      <td>665</td>\n",
       "    </tr>\n",
       "    <tr>\n",
       "      <th>9516</th>\n",
       "      <td>Portage</td>\n",
       "      <td>4/29/2021</td>\n",
       "      <td>227</td>\n",
       "      <td>619</td>\n",
       "    </tr>\n",
       "    <tr>\n",
       "      <th>9517</th>\n",
       "      <td>Portage</td>\n",
       "      <td>4/30/2021</td>\n",
       "      <td>230</td>\n",
       "      <td>440</td>\n",
       "    </tr>\n",
       "    <tr>\n",
       "      <th>9518</th>\n",
       "      <td>Portage</td>\n",
       "      <td>5/1/2021</td>\n",
       "      <td>121</td>\n",
       "      <td>186</td>\n",
       "    </tr>\n",
       "    <tr>\n",
       "      <th>9519</th>\n",
       "      <td>Portage</td>\n",
       "      <td>5/2/2021</td>\n",
       "      <td>33</td>\n",
       "      <td>71</td>\n",
       "    </tr>\n",
       "  </tbody>\n",
       "</table>\n",
       "<p>140 rows × 4 columns</p>\n",
       "</div>"
      ],
      "text/plain": [
       "       county        date  vaccines_started  vaccines_completed\n",
       "9380  Portage  12/14/2020                 0                   0\n",
       "9381  Portage  12/15/2020                 1                   0\n",
       "9382  Portage  12/16/2020                 5                   0\n",
       "9383  Portage  12/17/2020                 9                   0\n",
       "9384  Portage  12/18/2020                21                   0\n",
       "...       ...         ...               ...                 ...\n",
       "9515  Portage   4/28/2021               270                 665\n",
       "9516  Portage   4/29/2021               227                 619\n",
       "9517  Portage   4/30/2021               230                 440\n",
       "9518  Portage    5/1/2021               121                 186\n",
       "9519  Portage    5/2/2021                33                  71\n",
       "\n",
       "[140 rows x 4 columns]"
      ]
     },
     "execution_count": 56,
     "metadata": {},
     "output_type": "execute_result"
    }
   ],
   "source": [
    "portage_only = oly_uniq.loc[oly_uniq['county'] == 'Portage']\n",
    "portage_only"
   ]
  },
  {
   "cell_type": "markdown",
   "id": "focused-chapel",
   "metadata": {},
   "source": [
    "### We take the data above and put it into a graph to easily visualize it. First we will show the amount of vaccines that have been started and not yet completed for Portage county."
   ]
  },
  {
   "cell_type": "code",
   "execution_count": 57,
   "id": "demonstrated-auditor",
   "metadata": {},
   "outputs": [
    {
     "data": {
      "image/png": "[encoded data removed]",
      "text/plain": [
       "<Figure size 800x800 with 1 Axes>"
      ]
     },
     "metadata": {},
     "output_type": "display_data"
    }
   ],
   "source": [
    "labels = portage_only['date'].keys()\n",
    "vals = portage_only['vaccines_started']\n",
    "width = .75\n",
    "\n",
    "fig, ax = plt.subplots(figsize=(10,10), dpi = 80, facecolor = 'w', edgecolor = 'k')\n",
    "ax.bar(labels,vals)\n",
    "ax.set_ylabel('Number of vaccines')\n",
    "ax.set_xlabel('Days (each like is a day)')\n",
    "plt.xticks(rotation=90, fontsize = 'small')\n",
    "plt.show()"
   ]
  },
  {
   "cell_type": "markdown",
   "id": "departmental-transfer",
   "metadata": {},
   "source": [
    "### Second we will show the amount of vaccines that have been completed."
   ]
  },
  {
   "cell_type": "code",
   "execution_count": 83,
   "id": "breathing-scheme",
   "metadata": {},
   "outputs": [
    {
     "data": {
      "image/png": "[encoded data removed]",
      "text/plain": [
       "<Figure size 800x800 with 1 Axes>"
      ]
     },
     "metadata": {},
     "output_type": "display_data"
    }
   ],
   "source": [
    "labels = portage_only['date'].keys()\n",
    "vals = portage_only['vaccines_completed']\n",
    "width = .75\n",
    "\n",
    "fig, ax = plt.subplots(figsize=(10,10), dpi = 80, facecolor = 'w', edgecolor = 'k')\n",
    "ax.bar(labels,vals)\n",
    "ax.set_ylabel('Number of vaccines')\n",
    "ax.set_xlabel('Days (each like is a day)')\n",
    "plt.xticks(rotation=90, fontsize = 'small')\n",
    "plt.show()"
   ]
  },
  {
   "cell_type": "code",
   "execution_count": null,
   "id": "solar-fiction",
   "metadata": {},
   "outputs": [],
   "source": []
  }
 ],
 "metadata": {
  "kernelspec": {
   "display_name": "Python 3",
   "language": "python",
   "name": "python3"
  },
  "language_info": {
   "codemirror_mode": {
    "name": "ipython",
    "version": 3
   },
   "file_extension": ".py",
   "mimetype": "text/x-python",
   "name": "python",
   "nbconvert_exporter": "python",
   "pygments_lexer": "ipython3",
   "version": "3.9.1"
  }
 },
 "nbformat": 4,
 "nbformat_minor": 5
}
